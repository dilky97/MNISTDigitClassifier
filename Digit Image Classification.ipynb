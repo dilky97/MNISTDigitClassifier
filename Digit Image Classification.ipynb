{
 "cells": [
  {
   "cell_type": "code",
   "execution_count": 1,
   "metadata": {},
   "outputs": [],
   "source": [
    "import numpy as np\n",
    "import torch\n",
    "import torchvision\n",
    "import matplotlib.pyplot as plt\n",
    "from time import time\n",
    "from torchvision import datasets, transforms\n",
    "from torch import nn, optim"
   ]
  },
  {
   "cell_type": "code",
   "execution_count": 2,
   "metadata": {},
   "outputs": [],
   "source": [
    "#toTensor converts image to numbers and scales it from (HWC)[0,255] to (CHW)[0,1]\n",
    "transform = transforms.Compose([transforms.ToTensor(),\n",
    "                              transforms.Normalize((0.5,), (0.5,)),\n",
    "                              ])"
   ]
  },
  {
   "cell_type": "code",
   "execution_count": 7,
   "metadata": {},
   "outputs": [
    {
     "name": "stdout",
     "output_type": "stream",
     "text": [
      "Downloading http://yann.lecun.com/exdb/mnist/train-images-idx3-ubyte.gz to input\\MNIST\\MNIST\\raw\\train-images-idx3-ubyte.gz\n"
     ]
    },
    {
     "data": {
      "application/vnd.jupyter.widget-view+json": {
       "model_id": "14cb93deb2004763807bd689c4fa8363",
       "version_major": 2,
       "version_minor": 0
      },
      "text/plain": [
       "HBox(children=(FloatProgress(value=1.0, bar_style='info', max=1.0), HTML(value='')))"
      ]
     },
     "metadata": {},
     "output_type": "display_data"
    },
    {
     "name": "stdout",
     "output_type": "stream",
     "text": [
      "Extracting input\\MNIST\\MNIST\\raw\\train-images-idx3-ubyte.gz to input\\MNIST\\MNIST\\raw\n",
      "Downloading http://yann.lecun.com/exdb/mnist/train-labels-idx1-ubyte.gz to input\\MNIST\\MNIST\\raw\\train-labels-idx1-ubyte.gz\n"
     ]
    },
    {
     "data": {
      "application/vnd.jupyter.widget-view+json": {
       "model_id": "c47d8ac1daa043c58bc20be249a00984",
       "version_major": 2,
       "version_minor": 0
      },
      "text/plain": [
       "HBox(children=(FloatProgress(value=1.0, bar_style='info', max=1.0), HTML(value='')))"
      ]
     },
     "metadata": {},
     "output_type": "display_data"
    },
    {
     "name": "stdout",
     "output_type": "stream",
     "text": [
      "Extracting input\\MNIST\\MNIST\\raw\\train-labels-idx1-ubyte.gz to input\\MNIST\\MNIST\\raw\n",
      "Downloading http://yann.lecun.com/exdb/mnist/t10k-images-idx3-ubyte.gz to input\\MNIST\\MNIST\\raw\\t10k-images-idx3-ubyte.gz\n"
     ]
    },
    {
     "data": {
      "application/vnd.jupyter.widget-view+json": {
       "model_id": "02c08acfc49e48339ea06ce59b300d43",
       "version_major": 2,
       "version_minor": 0
      },
      "text/plain": [
       "HBox(children=(FloatProgress(value=1.0, bar_style='info', max=1.0), HTML(value='')))"
      ]
     },
     "metadata": {},
     "output_type": "display_data"
    },
    {
     "name": "stdout",
     "output_type": "stream",
     "text": [
      "Extracting input\\MNIST\\MNIST\\raw\\t10k-images-idx3-ubyte.gz to input\\MNIST\\MNIST\\raw\n",
      "Downloading http://yann.lecun.com/exdb/mnist/t10k-labels-idx1-ubyte.gz to input\\MNIST\\MNIST\\raw\\t10k-labels-idx1-ubyte.gz\n"
     ]
    },
    {
     "data": {
      "application/vnd.jupyter.widget-view+json": {
       "model_id": "c435dd167686463f84e9e3a200c8683a",
       "version_major": 2,
       "version_minor": 0
      },
      "text/plain": [
       "HBox(children=(FloatProgress(value=1.0, bar_style='info', max=1.0), HTML(value='')))"
      ]
     },
     "metadata": {},
     "output_type": "display_data"
    },
    {
     "name": "stdout",
     "output_type": "stream",
     "text": [
      "Extracting input\\MNIST\\MNIST\\raw\\t10k-labels-idx1-ubyte.gz to input\\MNIST\\MNIST\\raw\n",
      "Processing...\n",
      "Done!\n"
     ]
    }
   ],
   "source": [
    "#loading the data\n",
    "trainset = datasets.MNIST(r'input\\MNIST', download=True, train=True, transform=transform)\n",
    "trainloader = torch.utils.data.DataLoader(trainset, batch_size=64, shuffle=True)\n",
    "\n",
    "testset = datasets.MNIST(r'input\\MNIST', download=True, train=False, transform=transform)\n",
    "testloader = torch.utils.data.DataLoader(testset, batch_size=64, shuffle=True)"
   ]
  },
  {
   "cell_type": "markdown",
   "metadata": {},
   "source": [
    "torch.Size([64, 1, 28, 28]): This shows that there are 64 images in each batch, which has 1 color channel and 28x28 pixel dimensions.\n",
    "\n",
    "torch.Size([64]): 64 images should have 64 labels associated with them."
   ]
  },
  {
   "cell_type": "code",
   "execution_count": 13,
   "metadata": {},
   "outputs": [
    {
     "name": "stdout",
     "output_type": "stream",
     "text": [
      "torch.Size([64, 1, 28, 28])\n",
      "torch.Size([64])\n"
     ]
    }
   ],
   "source": [
    "dataiter = iter(trainloader)\n",
    "images,labels = dataiter.next()\n",
    "print(images.shape)\n",
    "print(labels.shape)"
   ]
  },
  {
   "cell_type": "code",
   "execution_count": 14,
   "metadata": {},
   "outputs": [
    {
     "data": {
      "image/png": "[encoded data removed]",
      "text/plain": [
       "<Figure size 432x288 with 60 Axes>"
      ]
     },
     "metadata": {
      "needs_background": "light"
     },
     "output_type": "display_data"
    }
   ],
   "source": [
    "fig = plt.figure()\n",
    "num_img = 60\n",
    "\n",
    "for index in range(1,num_img+1):\n",
    "    plt.subplot(6,10,index)\n",
    "    plt.axis('off')\n",
    "    plt.imshow(images[0].numpy().squeeze(), cmap='gray_r');"
   ]
  },
  {
   "cell_type": "code",
   "execution_count": 15,
   "metadata": {},
   "outputs": [
    {
     "name": "stdout",
     "output_type": "stream",
     "text": [
      "Sequential(\n",
      "  (0): Linear(in_features=784, out_features=128, bias=True)\n",
      "  (1): ReLU()\n",
      "  (2): Linear(in_features=128, out_features=64, bias=True)\n",
      "  (3): Tanh()\n",
      "  (4): Linear(in_features=64, out_features=10, bias=True)\n",
      "  (5): LogSoftmax()\n",
      ")\n"
     ]
    }
   ],
   "source": [
    "# Model creation with neural net Sequential model\n",
    "model=nn.Sequential(nn.Linear(784,128), # 1 layer:- 784 input 128 o/p\n",
    "                    nn.ReLU(),          # Defining Regular linear unit as activation\n",
    "                    nn.Linear(128,64),  # 2 Layer:- 128 Input and 64 O/p\n",
    "                    nn.Tanh(),          # Defining Regular linear unit as activation\n",
    "                    nn.Linear(64,10),   # 3 Layer:- 64 Input and 10 O/P as (0-9)\n",
    "                    nn.LogSoftmax(dim=1) # Defining the log softmax to find the probablities for the last output unit\n",
    "                  ) \n",
    "\n",
    "print(model)"
   ]
  },
  {
   "cell_type": "code",
   "execution_count": 17,
   "metadata": {},
   "outputs": [
    {
     "name": "stdout",
     "output_type": "stream",
     "text": [
      "tensor(2.3249, grad_fn=<NllLossBackward>)\n"
     ]
    }
   ],
   "source": [
    "# defining the negative log-likelihood loss for calculating loss\n",
    "criterion = nn.NLLLoss() \n",
    "images, labels = next(iter(trainloader))\n",
    "images = images.view(images.shape[0], -1)\n",
    "\n",
    "logps = model(images) #log probabilities\n",
    "loss = criterion(logps, labels) #calculate the NLL-loss\n",
    "print(loss)"
   ]
  },
  {
   "cell_type": "code",
   "execution_count": 18,
   "metadata": {},
   "outputs": [
    {
     "name": "stdout",
     "output_type": "stream",
     "text": [
      "Before backward pass: \n",
      " None\n",
      "After backward pass: \n",
      " tensor([[ 8.9453e-05,  8.9453e-05,  8.9453e-05,  ...,  8.9453e-05,\n",
      "          8.9453e-05,  8.9453e-05],\n",
      "        [ 1.4163e-03,  1.4163e-03,  1.4163e-03,  ...,  1.4163e-03,\n",
      "          1.4163e-03,  1.4163e-03],\n",
      "        [-2.6542e-04, -2.6542e-04, -2.6542e-04,  ..., -2.6542e-04,\n",
      "         -2.6542e-04, -2.6542e-04],\n",
      "        ...,\n",
      "        [ 3.0830e-03,  3.0830e-03,  3.0830e-03,  ...,  3.0830e-03,\n",
      "          3.0830e-03,  3.0830e-03],\n",
      "        [ 4.0780e-03,  4.0780e-03,  4.0780e-03,  ...,  4.0780e-03,\n",
      "          4.0780e-03,  4.0780e-03],\n",
      "        [-6.3924e-03, -6.3924e-03, -6.3924e-03,  ..., -6.3924e-03,\n",
      "         -6.3924e-03, -6.3924e-03]])\n"
     ]
    }
   ],
   "source": [
    "print('Before backward pass: \\n', model[0].weight.grad)\n",
    "loss.backward() # to calculate gradients of parameter \n",
    "print('After backward pass: \\n', model[0].weight.grad)"
   ]
  },
  {
   "cell_type": "code",
   "execution_count": 22,
   "metadata": {},
   "outputs": [
    {
     "name": "stdout",
     "output_type": "stream",
     "text": [
      "Initial weights -  Parameter containing:\n",
      "tensor([[-0.0127, -0.0211, -0.0160,  ..., -0.0224, -0.0226,  0.0221],\n",
      "        [-0.0233, -0.0256,  0.0050,  ..., -0.0354, -0.0067,  0.0070],\n",
      "        [ 0.0296, -0.0154,  0.0092,  ..., -0.0246, -0.0152, -0.0113],\n",
      "        ...,\n",
      "        [-0.0032, -0.0352, -0.0031,  ...,  0.0242,  0.0327, -0.0290],\n",
      "        [ 0.0255,  0.0132,  0.0241,  ..., -0.0026, -0.0116,  0.0099],\n",
      "        [-0.0082,  0.0114,  0.0052,  ...,  0.0103, -0.0122, -0.0015]],\n",
      "       requires_grad=True)\n",
      "Gradient - tensor([[ 0.0013,  0.0013,  0.0013,  ...,  0.0013,  0.0013,  0.0013],\n",
      "        [ 0.0002,  0.0002,  0.0002,  ...,  0.0002,  0.0002,  0.0002],\n",
      "        [ 0.0000,  0.0000,  0.0000,  ...,  0.0000,  0.0000,  0.0000],\n",
      "        ...,\n",
      "        [ 0.0011,  0.0011,  0.0011,  ...,  0.0011,  0.0011,  0.0011],\n",
      "        [-0.0027, -0.0027, -0.0027,  ..., -0.0027, -0.0027, -0.0027],\n",
      "        [-0.0035, -0.0035, -0.0035,  ..., -0.0035, -0.0035, -0.0035]])\n"
     ]
    }
   ],
   "source": [
    "optimizer = optim.SGD(model.parameters(),lr=0.01,momentum=0.9)\n",
    "print('Initial weights - ', model[0].weight)\n",
    "\n",
    "images, labels = next(iter(trainloader))\n",
    "images.resize_(64, 784)\n",
    "\n",
    "optimizer.zero_grad()\n",
    "\n",
    "#Forward propogation\n",
    "output= model(images)\n",
    "loss = criterion(output,labels)\n",
    "\n",
    "#Backpropogation\n",
    "loss.backward()\n",
    "print('Gradient -', model[0].weight.grad)"
   ]
  },
  {
   "cell_type": "code",
   "execution_count": 23,
   "metadata": {},
   "outputs": [
    {
     "name": "stdout",
     "output_type": "stream",
     "text": [
      "Epoch 0 - Training loss: 0.4134130588472525\n",
      "Epoch 1 - Training loss: 0.17830000950623232\n",
      "Epoch 2 - Training loss: 0.12910850298032958\n",
      "Epoch 3 - Training loss: 0.10385629642051833\n",
      "Epoch 4 - Training loss: 0.08619273674519443\n",
      "Epoch 5 - Training loss: 0.0743280569938367\n",
      "Epoch 6 - Training loss: 0.06547160837094365\n",
      "Epoch 7 - Training loss: 0.05581605758072177\n",
      "Epoch 8 - Training loss: 0.05082553138222688\n",
      "Epoch 9 - Training loss: 0.0467255554559863\n",
      "Epoch 10 - Training loss: 0.040517331261350625\n",
      "Epoch 11 - Training loss: 0.036255648166416826\n",
      "Epoch 12 - Training loss: 0.03168279932104925\n",
      "Epoch 13 - Training loss: 0.030660282888103213\n",
      "Epoch 14 - Training loss: 0.025687320217396368\n"
     ]
    }
   ],
   "source": [
    "epochs = 15\n",
    "running_loss_list = []\n",
    "epochs_list = []\n",
    "\n",
    "for e in range(epochs):\n",
    "    running_loss =0\n",
    "    \n",
    "    for images,labels in trainloader:\n",
    "        # Flatenning MNIST images with size [64,784]\n",
    "        images = images.view(images.shape[0], -1) \n",
    "        \n",
    "        # defining gradient in each epoch as 0\n",
    "        optimizer.zero_grad()\n",
    "        \n",
    "        # modeling for each image batch\n",
    "        output = model(images)\n",
    "        \n",
    "        # calculating the loss\n",
    "        loss = criterion(output, labels)\n",
    "        \n",
    "        # This is where the model learns by backpropagating\n",
    "        loss.backward()\n",
    "        \n",
    "        # And optimizes its weights here\n",
    "        optimizer.step()\n",
    "        \n",
    "        # calculating the loss\n",
    "        running_loss += loss.item()\n",
    "    \n",
    "    else:\n",
    "        print(\"Epoch {} - Training loss: {}\".format(e, running_loss/len(trainloader)))"
   ]
  },
  {
   "cell_type": "code",
   "execution_count": 24,
   "metadata": {},
   "outputs": [],
   "source": [
    "def classify(img, ps):\n",
    "    ''' \n",
    "    Function for viewing an image and it's predicted classes.\n",
    "    '''\n",
    "    ps = ps.data.numpy().squeeze()\n",
    "\n",
    "    fig, (ax1, ax2) = plt.subplots(figsize=(6,9), ncols=2)\n",
    "    ax1.imshow(img.resize_(1, 28, 28).numpy().squeeze())\n",
    "    ax1.axis('off')\n",
    "    ax2.barh(np.arange(10), ps)\n",
    "    ax2.set_aspect(0.1)\n",
    "    ax2.set_yticks(np.arange(10))\n",
    "    ax2.set_yticklabels(np.arange(10))\n",
    "    ax2.set_title('Class Probability')\n",
    "    ax2.set_xlim(0, 1.1)\n",
    "    plt.tight_layout()"
   ]
  },
  {
   "cell_type": "code",
   "execution_count": 25,
   "metadata": {},
   "outputs": [
    {
     "name": "stdout",
     "output_type": "stream",
     "text": [
      "Predicted Digit = 5\n"
     ]
    },
    {
     "data": {
      "image/png": "[encoded data removed]",
      "text/plain": [
       "<Figure size 432x648 with 2 Axes>"
      ]
     },
     "metadata": {
      "needs_background": "light"
     },
     "output_type": "display_data"
    }
   ],
   "source": [
    "images, labels = next(iter(testloader))\n",
    "# replace trainloader to check training accuracy.\n",
    "\n",
    "img = images[0].view(1, 784)\n",
    "# Turn off gradients to speed up this part\n",
    "with torch.no_grad():\n",
    "    logpb = model(img)\n",
    "\n",
    "# Output of the network are log-probabilities, need to take exponential for probabilities\n",
    "pb = torch.exp(logpb)\n",
    "probab = list(pb.numpy()[0])\n",
    "print(\"Predicted Digit =\", probab.index(max(probab)))\n",
    "classify(img.view(1, 28, 28), pb)"
   ]
  },
  {
   "cell_type": "code",
   "execution_count": 26,
   "metadata": {},
   "outputs": [
    {
     "name": "stdout",
     "output_type": "stream",
     "text": [
      "Number Of Images Tested = 10000\n",
      "\n",
      "Model Accuracy = 0.9787\n"
     ]
    }
   ],
   "source": [
    "correct_count, all_count = 0, 0\n",
    "for images,labels in testloader:\n",
    "  for i in range(len(labels)):\n",
    "    img = images[i].view(1, 784)\n",
    "\n",
    "    with torch.no_grad():\n",
    "        logps = model(img)\n",
    "\n",
    "    ps = torch.exp(logps)\n",
    "    probab = list(ps.numpy()[0])\n",
    "    pred_label = probab.index(max(probab))\n",
    "    true_label = labels.numpy()[i]\n",
    "    if(true_label == pred_label):\n",
    "      correct_count += 1\n",
    "    all_count += 1\n",
    "\n",
    "print(\"Number Of Images Tested =\", all_count)\n",
    "print(\"\\nModel Accuracy =\", (correct_count/all_count))"
   ]
  },
  {
   "cell_type": "code",
   "execution_count": 28,
   "metadata": {},
   "outputs": [],
   "source": [
    "torch.save(model, 'digitclass/my_mnist_model.pt')"
   ]
  },
  {
   "cell_type": "code",
   "execution_count": null,
   "metadata": {},
   "outputs": [],
   "source": []
  }
 ],
 "metadata": {
  "kernelspec": {
   "display_name": "Python 3",
   "language": "python",
   "name": "python3"
  },
  "language_info": {
   "codemirror_mode": {
    "name": "ipython",
    "version": 3
   },
   "file_extension": ".py",
   "mimetype": "text/x-python",
   "name": "python",
   "nbconvert_exporter": "python",
   "pygments_lexer": "ipython3",
   "version": "3.7.6"
  }
 },
 "nbformat": 4,
 "nbformat_minor": 4
}
