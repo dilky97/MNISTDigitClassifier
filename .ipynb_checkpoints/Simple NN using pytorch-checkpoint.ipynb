{
 "cells": [
  {
   "cell_type": "code",
   "execution_count": 1,
   "metadata": {},
   "outputs": [],
   "source": [
    "import torch\n"
   ]
  },
  {
   "cell_type": "code",
   "execution_count": 2,
   "metadata": {},
   "outputs": [],
   "source": [
    "X = torch.Tensor([[1,0,1,0],[1,0,1,1],[0,1,0,1]])\n",
    "y = torch.Tensor([[1],[1],[0]])"
   ]
  },
  {
   "cell_type": "code",
   "execution_count": 3,
   "metadata": {},
   "outputs": [],
   "source": [
    "#Sigmoid Function\n",
    "def sigmoid (x):\n",
    "  return 1/(1 + torch.exp(-x))\n",
    "\n",
    "def derivatives_sigmoid(x):\n",
    "  return x * (1 - x)"
   ]
  },
  {
   "cell_type": "code",
   "execution_count": 4,
   "metadata": {},
   "outputs": [],
   "source": [
    "#Variable initialization\n",
    "epoch=5000 #Setting training iterations\n",
    "lr=0.1 #Setting learning rate\n",
    "inputlayer_neurons = X.shape[1] #number of features in data set\n",
    "hiddenlayer_neurons = 3 #number of hidden layers neurons\n",
    "output_neurons = 1 #number of neurons at output layer"
   ]
  },
  {
   "cell_type": "code",
   "execution_count": 5,
   "metadata": {},
   "outputs": [],
   "source": [
    "#weight and bias initialization\n",
    "wh=torch.randn(inputlayer_neurons, hiddenlayer_neurons).type(torch.FloatTensor)\n",
    "bh=torch.randn(1, hiddenlayer_neurons).type(torch.FloatTensor)\n",
    "wout=torch.randn(hiddenlayer_neurons, output_neurons)\n",
    "bout=torch.randn(1, output_neurons)"
   ]
  },
  {
   "cell_type": "code",
   "execution_count": 6,
   "metadata": {},
   "outputs": [
    {
     "name": "stdout",
     "output_type": "stream",
     "text": [
      "actual :\n",
      " tensor([[1.],\n",
      "        [1.],\n",
      "        [0.]]) \n",
      "\n",
      "predicted :\n",
      " tensor([[0.9731],\n",
      "        [0.9742],\n",
      "        [0.0340]])\n"
     ]
    }
   ],
   "source": [
    "for i in range(epoch):\n",
    "\n",
    "  #Forward Propogation\n",
    "  hidden_layer_input1 = torch.mm(X, wh)\n",
    "  hidden_layer_input = hidden_layer_input1 + bh\n",
    "  hidden_layer_activations = sigmoid(hidden_layer_input)\n",
    " \n",
    "  output_layer_input1 = torch.mm(hidden_layer_activations, wout)\n",
    "  output_layer_input = output_layer_input1 + bout\n",
    "  output = sigmoid(output_layer_input1)\n",
    "\n",
    "  #Backpropagation\n",
    "  E = y-output\n",
    "  slope_output_layer = derivatives_sigmoid(output)\n",
    "  slope_hidden_layer = derivatives_sigmoid(hidden_layer_activations)\n",
    "  d_output = E * slope_output_layer\n",
    "  Error_at_hidden_layer = torch.mm(d_output, wout.t())\n",
    "  d_hiddenlayer = Error_at_hidden_layer * slope_hidden_layer\n",
    "  wout += torch.mm(hidden_layer_activations.t(), d_output) *lr\n",
    "  bout += d_output.sum() *lr\n",
    "  wh += torch.mm(X.t(), d_hiddenlayer) *lr\n",
    "  bh += d_output.sum() *lr\n",
    " \n",
    "print('actual :\\n', y, '\\n')\n",
    "print('predicted :\\n', output)"
   ]
  },
  {
   "cell_type": "code",
   "execution_count": null,
   "metadata": {},
   "outputs": [],
   "source": []
  }
 ],
 "metadata": {
  "kernelspec": {
   "display_name": "Python 3",
   "language": "python",
   "name": "python3"
  },
  "language_info": {
   "codemirror_mode": {
    "name": "ipython",
    "version": 3
   },
   "file_extension": ".py",
   "mimetype": "text/x-python",
   "name": "python",
   "nbconvert_exporter": "python",
   "pygments_lexer": "ipython3",
   "version": "3.7.6"
  }
 },
 "nbformat": 4,
 "nbformat_minor": 4
}
